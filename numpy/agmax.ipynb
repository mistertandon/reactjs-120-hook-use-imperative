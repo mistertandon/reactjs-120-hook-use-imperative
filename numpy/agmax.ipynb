{
 "cells": [
  {
   "cell_type": "code",
   "execution_count": 33,
   "metadata": {},
   "outputs": [],
   "source": [
    "import numpy as np\n",
    "import pandas as pd"
   ]
  },
  {
   "cell_type": "code",
   "execution_count": 34,
   "metadata": {},
   "outputs": [],
   "source": [
    "# First 20 countries with employment data\n",
    "countries = np.array([\n",
    "    'Afghanistan', 'Albania', 'Algeria', 'Angola', 'Argentina',\n",
    "    'Armenia', 'Australia', 'Austria', 'Azerbaijan', 'Bahamas',\n",
    "    'Bahrain', 'Bangladesh', 'Barbados', 'Belarus', 'Belgium',\n",
    "    'Belize', 'Benin', 'Bhutan', 'Bolivia',\n",
    "    'Bosnia and Herzegovina'\n",
    "])\n",
    "\n",
    "# Employment data in 2007 for those 20 countries\n",
    "employment = np.array([\n",
    "    55.70000076,  51.40000153,  50.5       ,  75.69999695,\n",
    "    58.40000153,  40.09999847,  61.5       ,  57.09999847,\n",
    "    60.90000153,  66.59999847,  60.40000153,  68.09999847,\n",
    "    66.90000153,  53.40000153,  48.59999847,  56.79999924,\n",
    "    71.59999847,  58.40000153,  70.40000153,  41.20000076\n",
    "])"
   ]
  },
  {
   "cell_type": "code",
   "execution_count": 35,
   "metadata": {},
   "outputs": [],
   "source": [
    "def max_employment(countries, employment, convert_series = False):\n",
    "    '''\n",
    "    Fill in this function to return the name of the country\n",
    "    with the highest employment in the given employment\n",
    "    data, and the employment in that country.\n",
    "    '''\n",
    "    max_country =  max_value = None\n",
    "    if convert_series:\n",
    "        index_emp = np.argmax(employment)\n",
    "        max_country = countries[index_emp]\n",
    "        max_value = employment[index_emp]\n",
    "    else:\n",
    "        # Creating pandas.Series using given <employment>,  <countries>\n",
    "        get_series = pd.Series(data = employment, index = countries)\n",
    "        max_country_tuple = np.argmax(get_series)\n",
    "        \n",
    "        # Using destructring assinging values to <max_country> and <max_value>\n",
    "        max_country, max_value = max_country_tuple[0], max_country_tuple[1]\n",
    "\n",
    "    return (max_country, max_value)"
   ]
  },
  {
   "cell_type": "code",
   "execution_count": 36,
   "metadata": {},
   "outputs": [],
   "source": [
    "if False:\n",
    "    max_country_tuple = max_employment(countries, employment)\n",
    "    print(max_country_tuple)"
   ]
  },
  {
   "cell_type": "code",
   "execution_count": 37,
   "metadata": {},
   "outputs": [
    {
     "name": "stdout",
     "output_type": "stream",
     "text": [
      "('Angola', 75.69999695)\n"
     ]
    }
   ],
   "source": [
    "if True:\n",
    "    max_country_tuple_i = max_employment(countries, employment, True)\n",
    "    print(max_country_tuple_i)"
   ]
  },
  {
   "cell_type": "code",
   "execution_count": null,
   "metadata": {},
   "outputs": [],
   "source": []
  }
 ],
 "metadata": {
  "kernelspec": {
   "display_name": "Python 3",
   "language": "python",
   "name": "python3"
  },
  "language_info": {
   "codemirror_mode": {
    "name": "ipython",
    "version": 3
   },
   "file_extension": ".py",
   "mimetype": "text/x-python",
   "name": "python",
   "nbconvert_exporter": "python",
   "pygments_lexer": "ipython3",
   "version": "3.6.5"
  }
 },
 "nbformat": 4,
 "nbformat_minor": 2
}
