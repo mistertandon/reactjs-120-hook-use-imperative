{
 "cells": [
  {
   "cell_type": "code",
   "execution_count": null,
   "metadata": {},
   "outputs": [],
   "source": [
    "%config IPCompleter.greedy = True"
   ]
  },
  {
   "cell_type": "code",
   "execution_count": null,
   "metadata": {},
   "outputs": [],
   "source": [
    "import pandas as pd"
   ]
  },
  {
   "cell_type": "markdown",
   "metadata": {},
   "source": [
    "#### Create a DataFrame from Lists"
   ]
  },
  {
   "cell_type": "code",
   "execution_count": null,
   "metadata": {},
   "outputs": [],
   "source": [
    "data_i = [1, 2, 3, 4, 5]\n",
    "df_i = pd.DataFrame(data_i)\n",
    "df_i"
   ]
  },
  {
   "cell_type": "code",
   "execution_count": null,
   "metadata": {},
   "outputs": [],
   "source": [
    "df_ii = pd.DataFrame(data_i, index = ['Row 1', 'Row 2', 'Row 3', 'Row 4', 'Row 5'])\n",
    "df_ii"
   ]
  },
  {
   "cell_type": "markdown",
   "metadata": {},
   "source": [
    "Create a DataFrame from Rank 2 Lists"
   ]
  },
  {
   "cell_type": "code",
   "execution_count": null,
   "metadata": {},
   "outputs": [],
   "source": [
    "data_iii = [['Parvesh', 28], ['Satyendra', 27], ['Gourav', 26]]\n",
    "df_iii = pd.DataFrame(data_iii, columns = ['Name', 'Age'], index = ['Row 1', 'Row 2', 'Row 3'])\n",
    "df_iii"
   ]
  },
  {
   "cell_type": "markdown",
   "metadata": {},
   "source": [
    "#### Create a DataFrame from Dict of ndarrays or lists"
   ]
  },
  {
   "cell_type": "code",
   "execution_count": null,
   "metadata": {},
   "outputs": [],
   "source": [
    "data_iv = {'Name': ['Parvesh', 'Satyendra', 'Gourav'], 'Age': [28, 27, 26]}\n",
    "df_iv = pd.DataFrame(data_iv, index = ['Row 1', 'Row 2', 'Row 3'])\n",
    "df_iv"
   ]
  },
  {
   "cell_type": "markdown",
   "metadata": {},
   "source": [
    "#### Create a DataFrame from list of Dicts"
   ]
  },
  {
   "cell_type": "code",
   "execution_count": null,
   "metadata": {},
   "outputs": [],
   "source": [
    "data_v = [{'Parvesh', 28}, {'Satyendra', 27}, {'Gourav', 26}]\n",
    "df_v = pd.DataFrame(data_v, columns = ['Name', 'Age'], index = ['Row 1', 'Row 2', 'Row 3'])\n",
    "df_v"
   ]
  },
  {
   "cell_type": "markdown",
   "metadata": {},
   "source": [
    "#### Create a DataFrame from Dict of series"
   ]
  },
  {
   "cell_type": "code",
   "execution_count": null,
   "metadata": {},
   "outputs": [],
   "source": [
    "\n",
    "data_vi = {\n",
    "    'Column I':pd.Series(data = [1, 2, 3], index = ['Row 1', 'Row 2', 'Row 3']),\n",
    "    'Column II':pd.Series(data = [4, 5, 6, 7], index = ['Row 1', 'Row 2', 'Row 3', 'Row 4'])\n",
    "}\n",
    "df_v = pd.DataFrame(data_vi, index = ['Row 1', 'Row 2', 'Row 3'])\n",
    "df_v"
   ]
  }
 ],
 "metadata": {
  "kernelspec": {
   "display_name": "Python 3",
   "language": "python",
   "name": "python3"
  },
  "language_info": {
   "codemirror_mode": {
    "name": "ipython",
    "version": 3
   },
   "file_extension": ".py",
   "mimetype": "text/x-python",
   "name": "python",
   "nbconvert_exporter": "python",
   "pygments_lexer": "ipython3",
   "version": "3.6.5"
  }
 },
 "nbformat": 4,
 "nbformat_minor": 2
}
