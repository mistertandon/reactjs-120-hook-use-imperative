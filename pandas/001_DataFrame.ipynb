{
 "cells": [
  {
   "cell_type": "code",
   "execution_count": 46,
   "metadata": {},
   "outputs": [],
   "source": [
    "%config IPCompleter.greedy = True"
   ]
  },
  {
   "cell_type": "code",
   "execution_count": 47,
   "metadata": {},
   "outputs": [],
   "source": [
    "import pandas as pd"
   ]
  },
  {
   "cell_type": "markdown",
   "metadata": {},
   "source": [
    "#### Create a DataFrame from Lists"
   ]
  },
  {
   "cell_type": "code",
   "execution_count": 48,
   "metadata": {},
   "outputs": [],
   "source": [
    "data_i = [1, 2, 3, 4, 5]\n",
    "df_i = pd.DataFrame(data_i)\n",
    "\n",
    "#if True:\n",
    "if False:\n",
    "    pd.to_pickle(df_i, './data_frames/df_list.pkl')\n",
    "    print(df_i)"
   ]
  },
  {
   "cell_type": "code",
   "execution_count": 49,
   "metadata": {},
   "outputs": [],
   "source": [
    "df_ii = pd.DataFrame(data_i, index = ['Row 1', 'Row 2', 'Row 3', 'Row 4', 'Row 5'])\n",
    "\n",
    "#if True:\n",
    "if False:\n",
    "    pd.to_pickle(df_ii, './data_frames/df_list_with_index.pkl')\n",
    "    df_ii"
   ]
  },
  {
   "cell_type": "markdown",
   "metadata": {},
   "source": [
    "Create a DataFrame from Rank 2 Lists"
   ]
  },
  {
   "cell_type": "code",
   "execution_count": 50,
   "metadata": {},
   "outputs": [],
   "source": [
    "data_iii = [['Parvesh', 28], ['Satyendra', 27], ['Gourav', 26]]\n",
    "df_iii = pd.DataFrame(data_iii, columns = ['Name', 'Age'], index = ['Row 1', 'Row 2', 'Row 3'])\n",
    "\n",
    "#if True:\n",
    "if False:\n",
    "    pd.to_pickle(df_iii, './data_frames/df_rank2_list.pkl')\n",
    "    df_iii"
   ]
  },
  {
   "cell_type": "markdown",
   "metadata": {},
   "source": [
    "#### Create a DataFrame from Dict of ndarrays or lists"
   ]
  },
  {
   "cell_type": "code",
   "execution_count": 51,
   "metadata": {},
   "outputs": [],
   "source": [
    "data_iv = {'Name': ['Parvesh', 'Satyendra', 'Gourav'], 'Age': [28, 27, 26]}\n",
    "df_iv = pd.DataFrame(data_iv, index = ['Row 1', 'Row 2', 'Row 3'])\n",
    "\n",
    "#if True:\n",
    "if False:\n",
    "    pd.to_pickle(df_iv, './data_frames/df_dict_of_lists.pkl')\n",
    "    df_iv"
   ]
  },
  {
   "cell_type": "markdown",
   "metadata": {},
   "source": [
    "#### Create a DataFrame from list of Dicts"
   ]
  },
  {
   "cell_type": "code",
   "execution_count": 52,
   "metadata": {},
   "outputs": [],
   "source": [
    "data_v = [{'Parvesh', 28}, {'Satyendra', 27}, {'Gourav', 26}]\n",
    "df_v = pd.DataFrame(data_v, columns = ['Name', 'Age'], index = ['Row 1', 'Row 2', 'Row 3'])\n",
    "\n",
    "#if True:\n",
    "if False:\n",
    "    pd.to_pickle(df_v, './data_frames/df_list_of_dicts.pkl')\n",
    "    print(df_v)"
   ]
  },
  {
   "cell_type": "markdown",
   "metadata": {},
   "source": [
    "#### Create a DataFrame from Dict of series"
   ]
  },
  {
   "cell_type": "code",
   "execution_count": 53,
   "metadata": {},
   "outputs": [],
   "source": [
    "data_vi = {\n",
    "    'Column I':pd.Series(data = [1, 2, 3], index = ['Row 1', 'Row 2', 'Row 3']),\n",
    "    'Column II':pd.Series(data = [4, 5, 6, 7], index = ['Row 1', 'Row 2', 'Row 3', 'Row 4'])\n",
    "}\n",
    "df_vi = pd.DataFrame(data_vi)\n",
    "\n",
    "#if True:\n",
    "if False:\n",
    "    pd.to_pickle(df_vi, './data_frames/df_dict_of_series.pkl')\n",
    "    print(df_vi)"
   ]
  },
  {
   "cell_type": "code",
   "execution_count": 54,
   "metadata": {},
   "outputs": [],
   "source": [
    "ridership_df = pd.DataFrame(\n",
    "    data=[[   0,    0,    2,    5,    0],\n",
    "          [1478, 3877, 3674, 2328, 2539],\n",
    "          [1613, 4088, 3991, 6461, 2691],\n",
    "          [1560, 3392, 3826, 4787, 2613],\n",
    "          [1608, 4802, 3932, 4477, 2705],\n",
    "          [1576, 3933, 3909, 4979, 2685],\n",
    "          [  95,  229,  255,  496,  201],\n",
    "          [   2,    0,    1,   27,    0],\n",
    "          [1438, 3785, 3589, 4174, 2215],\n",
    "          [1342, 4043, 4009, 4665, 3033]],\n",
    "    index=['05-01-11', '05-02-11', '05-03-11', '05-04-11', '05-05-11',\n",
    "           '05-06-11', '05-07-11', '05-08-11', '05-09-11', '05-10-11'],\n",
    "    columns=['R003', 'R004', 'R005', 'R006', 'R007']\n",
    ")\n",
    "\n",
    "#if True:\n",
    "if False:\n",
    "    pd.to_pickle(ridership_df, './data_frames/df_dict_of_ridership.pkl')\n",
    "    print(ridership_df)"
   ]
  }
 ],
 "metadata": {
  "kernelspec": {
   "display_name": "Python 3",
   "language": "python",
   "name": "python3"
  },
  "language_info": {
   "codemirror_mode": {
    "name": "ipython",
    "version": 3
   },
   "file_extension": ".py",
   "mimetype": "text/x-python",
   "name": "python",
   "nbconvert_exporter": "python",
   "pygments_lexer": "ipython3",
   "version": "3.6.5"
  }
 },
 "nbformat": 4,
 "nbformat_minor": 2
}
